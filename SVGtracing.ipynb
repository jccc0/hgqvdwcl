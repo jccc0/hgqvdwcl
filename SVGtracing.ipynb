{
  "nbformat": 4,
  "nbformat_minor": 0,
  "metadata": {
    "colab": {
      "name": "SVGtracing.ipynb",
      "provenance": [],
      "collapsed_sections": []
    },
    "kernelspec": {
      "name": "python3",
      "display_name": "Python 3"
    },
    "language_info": {
      "name": "python"
    }
  },
  "cells": [
    {
      "cell_type": "code",
      "metadata": {
        "id": "i1vv7G0KCeNU"
      },
      "source": [
        "!apt-get install build-essential python-dev libagg-dev libpotrace-dev pkg-config"
      ],
      "execution_count": null,
      "outputs": []
    },
    {
      "cell_type": "code",
      "metadata": {
        "id": "QZl1rhD1C4g_"
      },
      "source": [
        "!git clone https://github.com/mehdidc/pypotrace"
      ],
      "execution_count": null,
      "outputs": []
    },
    {
      "cell_type": "code",
      "metadata": {
        "id": "RPOJBy1hC9Yq"
      },
      "source": [
        "%cd pypotrace"
      ],
      "execution_count": null,
      "outputs": []
    },
    {
      "cell_type": "code",
      "metadata": {
        "id": "M0Fb4OGPDALv"
      },
      "source": [
        "!git checkout to_xml"
      ],
      "execution_count": null,
      "outputs": []
    },
    {
      "cell_type": "code",
      "metadata": {
        "id": "O-vrN-y1DC7D"
      },
      "source": [
        "%rm -f potrace/*.c potrace/*.cpp potrace/agg/*.cpp potrace/*.so potrace/agg/*.so"
      ],
      "execution_count": null,
      "outputs": []
    },
    {
      "cell_type": "code",
      "metadata": {
        "id": "w-qcu6sNDHGE"
      },
      "source": [
        "!pip install ."
      ],
      "execution_count": null,
      "outputs": []
    },
    {
      "cell_type": "code",
      "metadata": {
        "id": "ap_lSyptDQS9"
      },
      "source": [
        "%cd .."
      ],
      "execution_count": null,
      "outputs": []
    },
    {
      "cell_type": "code",
      "metadata": {
        "id": "grW_Yd-eDJoK"
      },
      "source": [
        "!git clone https://github.com/mehdidc/pixel_to_svg\n",
        "%cd pixel_to_svg"
      ],
      "execution_count": null,
      "outputs": []
    },
    {
      "cell_type": "code",
      "metadata": {
        "id": "Bgff-WD0DSYP"
      },
      "source": [
        "!python setup.py install"
      ],
      "execution_count": null,
      "outputs": []
    },
    {
      "cell_type": "code",
      "metadata": {
        "id": "WYxntvRMDVhV"
      },
      "source": [
        "#trace image \n",
        "import numpy as np\n",
        "from skimage.io import imread\n",
        "import matplotlib.pyplot as plt\n",
        "from pixel_to_svg  import graph_seg\n",
        "from pixel_to_svg import render_svg\n",
        "from pixel_to_svg import save_svg\n",
        "from pixel_to_svg import to_svg\n",
        "img = imread(\"flower.jpg\")\n",
        "if img.shape[2] == 4:\n",
        "    img = img[:,:,0:3]\n",
        "    \n",
        "# segmentation step.\n",
        "# here each pixel is mapped to a category.\n",
        "# this internally uses quickshift and hierarchical_merge\n",
        "# from scikit-image (see the code for more info). \n",
        "# In principle, any segmentation method can be used\n",
        "# Feel free to replace this with you preferred method.\n",
        "seg = graph_seg(\n",
        "    img,\n",
        "    thresh=80,\n",
        ")\n",
        "# Given a segmented image, turn it to SVG.\n",
        "# This internally uses `potrace`.\n",
        "svg = to_svg(img, seg)\n",
        "\n",
        "# Convert SVG back to raster to display it\n",
        "# and compare it to original image\n",
        "img2 = render_svg(svg)\n",
        "\n",
        "fig = plt.subplots(nrows=1, ncols=2)\n",
        "plt.subplot(1,2,1)\n",
        "plt.imshow(img)\n",
        "plt.subplot(1,2,2)\n",
        "plt.imshow(img2)\n",
        "plt.show()\n",
        "\n",
        "# save the SVG\n",
        "save_svg(svg, \"out.svg\")"
      ],
      "execution_count": null,
      "outputs": []
    }
  ]
}