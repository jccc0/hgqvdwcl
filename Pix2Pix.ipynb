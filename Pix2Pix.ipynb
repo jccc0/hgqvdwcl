{
  "nbformat": 4,
  "nbformat_minor": 0,
  "metadata": {
    "colab": {
      "name": "Pix2Pix.ipynb",
      "provenance": [],
      "collapsed_sections": []
    },
    "kernelspec": {
      "name": "python3",
      "display_name": "Python 3"
    },
    "language_info": {
      "name": "python"
    }
  },
  "cells": [
    {
      "cell_type": "code",
      "metadata": {
        "colab": {
          "base_uri": "https://localhost:8080/"
        },
        "id": "bty1hA3o954T",
        "outputId": "2b213850-d355-43b8-e68e-cff9eb2bab67"
      },
      "source": [
        "%tensorflow_version 1.x"
      ],
      "execution_count": 1,
      "outputs": [
        {
          "output_type": "stream",
          "name": "stdout",
          "text": [
            "TensorFlow 1.x selected.\n"
          ]
        }
      ]
    },
    {
      "cell_type": "code",
      "metadata": {
        "colab": {
          "base_uri": "https://localhost:8080/"
        },
        "id": "EHtPQ0Rc-MAa",
        "outputId": "00b15a88-b77e-4540-ab22-1504a088c216"
      },
      "source": [
        "!git clone https://github.com/affinelayer/pix2pix-tensorflow.git\n",
        "%cd pix2pix-tensorflow"
      ],
      "execution_count": 2,
      "outputs": [
        {
          "output_type": "stream",
          "name": "stdout",
          "text": [
            "Cloning into 'pix2pix-tensorflow'...\n",
            "remote: Enumerating objects: 261, done.\u001b[K\n",
            "remote: Total 261 (delta 0), reused 0 (delta 0), pack-reused 261\u001b[K\n",
            "Receiving objects: 100% (261/261), 13.33 MiB | 32.42 MiB/s, done.\n",
            "Resolving deltas: 100% (103/103), done.\n",
            "/content/pix2pix-tensorflow\n"
          ]
        }
      ]
    },
    {
      "cell_type": "code",
      "metadata": {
        "colab": {
          "base_uri": "https://localhost:8080/"
        },
        "id": "vaNXVmOz-hZa",
        "outputId": "36b3d96f-0fbb-4fc2-ba7a-1d4915b5f336"
      },
      "source": [
        "!python tools/download-dataset.py cityscapes"
      ],
      "execution_count": 4,
      "outputs": [
        {
          "output_type": "stream",
          "name": "stdout",
          "text": [
            "downloading http://efrosgans.eecs.berkeley.edu/pix2pix/datasets/cityscapes.tar.gz\n",
            "extracting\n",
            "done\n"
          ]
        }
      ]
    },
    {
      "cell_type": "code",
      "metadata": {
        "id": "wGV4xJuu_gXZ"
      },
      "source": [
        "#Preparar Imagenes\n",
        "python tools/process.py \\\n",
        "  --input_dir a \\\n",
        "  --b_dir b \\\n",
        "  --operation combine \\\n",
        "  --output_dir c"
      ],
      "execution_count": null,
      "outputs": []
    },
    {
      "cell_type": "code",
      "metadata": {
        "id": "P9vPkenoAGfB"
      },
      "source": [
        "#Dividir. imagenes en sets de validacion y entrenamiento\n",
        "python tools/split.py \\\n",
        "  --dir photos/combined"
      ],
      "execution_count": null,
      "outputs": []
    },
    {
      "cell_type": "code",
      "metadata": {
        "id": "pZU7dLtEBt-f"
      },
      "source": [
        "#entrenar\n",
        "python pix2pix.py \\\n",
        "  --mode train \\\n",
        "  --output_dir facades_train \\\n",
        "  --max_epochs 200 \\\n",
        "  --input_dir facades/train \\\n",
        "  --which_direction BtoA"
      ],
      "execution_count": null,
      "outputs": []
    },
    {
      "cell_type": "code",
      "metadata": {
        "id": "lxZhkg-fB_2Z"
      },
      "source": [
        "#test\n",
        "python pix2pix.py \\\n",
        "  --mode test \\\n",
        "  --output_dir facades_test \\\n",
        "  --input_dir facades/val \\\n",
        "  --checkpoint facades_train"
      ],
      "execution_count": null,
      "outputs": []
    }
  ]
}